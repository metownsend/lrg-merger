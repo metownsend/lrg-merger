{
 "cells": [
  {
   "cell_type": "code",
   "execution_count": 1,
   "metadata": {
    "collapsed": true
   },
   "outputs": [],
   "source": [
    "# Performs a statistical subtraction of background galaxies\n",
    "\n",
    "# Last edited Aug. 22, 2017 at 5:05pm"
   ]
  },
  {
   "cell_type": "code",
   "execution_count": 3,
   "metadata": {
    "collapsed": true
   },
   "outputs": [],
   "source": [
    "from astropy.io import fits\n",
    "from astropy.table import Table\n",
    "import numpy as np\n",
    "import matplotlib.pylab as plt \n",
    "import matplotlib.lines as mlines\n",
    "from matplotlib.legend import Legend\n",
    "from pythonds.basic.stack import Stack\n",
    "from math import *"
   ]
  },
  {
   "cell_type": "code",
   "execution_count": 4,
   "metadata": {
    "collapsed": true
   },
   "outputs": [],
   "source": [
    "# Reading in data and assigning it to variables even though Greg seems to think it's a waste of time.\n",
    "\n",
    "# Read in data\n",
    "hdulist = fits.open('http://portal.nersc.gov/project/cosmo/data/legacysurvey/dr3/external/survey-dr3-specObj-dr13.fits') # survey\n",
    "hdulist2 = fits.open('https://data.sdss.org/sas/dr13/sdss/spectro/redux/specObj-dr13.fits')\n",
    "tbdata = hdulist[1].data\n",
    "tbdata2 = hdulist2[1].data\n",
    "\n",
    "# Put data in arrays\n",
    "\n",
    "# Object ID from survey file; value -1 for non-matches\n",
    "objid = []\n",
    "objid = tbdata.field('OBJID') \n",
    "\n",
    "# Only galaxies included\n",
    "gal_type = []\n",
    "gal_type = tbdata.field('TYPE') \n",
    "\n",
    "# RA\n",
    "ra = []\n",
    "ra = tbdata.field('RA')\n",
    "\n",
    "# Dec\n",
    "dec = []\n",
    "dec = tbdata.field('DEC')\n",
    "\n",
    "# Number of observations of source from legacy file\n",
    "# Not cut for LOWZ\n",
    "obs = []\n",
    "obsmatch = []\n",
    "obs = tbdata.field('DECAM_NOBS') \n",
    "obsmatch = obs[np.where(((gal_type == 'SIMP') | (gal_type == \"DEV\") | (gal_type == \"EXP\")) & (ra >= 241) & (ra <= 246) & (dec >= 6.5) & (dec <= 11.5))] # & (lowz_tar == 1) & (gal_class == 'GALAXY') & (spec == 1 ) & (zwarn_noqso == 0) & (class_noqso == 'GALAXY') & ((survey == 'sdss') | (survey == 'boss')))]\n",
    "\n",
    "# Put number of observations per filter into arrays that match the filter\n",
    "uobs = []\n",
    "gobs = []\n",
    "robs = []\n",
    "iobs = []\n",
    "zobs = []\n",
    "yobs = []\n",
    "\n",
    "b = np.array(obsmatch)\n",
    "uobs = b[:,0]\n",
    "gobs = b[:,1]\n",
    "robs = b[:,2]\n",
    "iobs = b[:,3]\n",
    "zobs = b[:,4]\n",
    "yobs = b[:,5]\n",
    "\n",
    "# Put flux data in an array from legacy file\n",
    "# Flux has ugrizY, so needs to be divided into 6 arrays\n",
    "flux =[]\n",
    "fluxmatch = []\n",
    "\n",
    "# Flux from DECAM\n",
    "# Not cut for LOWZ\n",
    "flux = tbdata.field('DECAM_FLUX')\n",
    "fluxmatch = flux[np.where(((gal_type == 'SIMP') | (gal_type == \"DEV\") | (gal_type == \"EXP\")) & (ra >= 241) & (ra <= 246) & (dec >= 6.5) & (dec <= 11.5))]\n",
    "\n",
    "# Divide flux arrays into 6 arrays\n",
    "uflux = []\n",
    "gflux = []\n",
    "rflux = []\n",
    "iflux = []\n",
    "zflux = []\n",
    "yflux = []\n",
    "\n",
    "a = np.array(fluxmatch)\n",
    "uflux = a[:,0]\n",
    "gflux = a[:,1]\n",
    "rflux = a[:,2]\n",
    "iflux = a[:,3]\n",
    "zflux = a[:,4]\n",
    "yflux = a[:,5]\n",
    "\n",
    "# Class of object\n",
    "gal_class = []\n",
    "gal_class = tbdata2.field('CLASS')\n",
    "\n",
    "# What survey the data is from\n",
    "survey = []\n",
    "survey = tbdata2.field('SURVEY')\n",
    "\n",
    "# SPECPRIMARY; set to 1 for primary observation of object, 0 otherwise\n",
    "spec = []\n",
    "spec = tbdata2.field('SPECPRIMARY')\n",
    "\n",
    "# Bitmask of spectroscopic warning values; need set to 0\n",
    "zwarn_noqso = []\n",
    "zwarn_noqso = tbdata2.field('ZWARNING_NOQSO')\n",
    "\n",
    "# Spectroscopic classification for certain redshift?\n",
    "class_noqso = []\n",
    "class_noqso = tbdata2.field('CLASS_NOQSO')\n",
    "\n",
    "# Redshift of galaxies according to sdss\n",
    "redshift = []\n",
    "redshift = tbdata2.field('Z') \n",
    "\n",
    "# Array for LOWZ targets\n",
    "targets = []\n",
    "targets = tbdata2.field('BOSS_TARGET1')\n",
    "\n",
    "# Section of code to find LOWZ targets\n",
    "\n",
    "# Function to find LOWZ targets\n",
    "def divideBy2(decNumber):\n",
    "\tnp.vectorize(decNumber)\n",
    "\tremstack = Stack()\n",
    "\t\n",
    "\tif decNumber == 0: return \"0\"\n",
    "\t\n",
    "\twhile decNumber > 0:\n",
    "\t\trem = decNumber % 2\n",
    "\t\tremstack.push(rem)\n",
    "\t\tdecNumber = decNumber // 2\n",
    "\t\t\n",
    "\tbinString = \"\"\n",
    "\twhile not remstack.isEmpty():\n",
    "\t\tbinString = binString + str(remstack.pop())\n",
    "\t\t\t\n",
    "\treturn binString\n",
    "\n",
    "divideBy2Vec = np.vectorize(divideBy2)\n",
    "\n",
    "a = divideBy2Vec(targets) # gives binary in string form\n",
    "bin2int = [int(i) for i in a] # converts binary strings to integer\n",
    "tar = np.array(bin2int) # puts list of integers into numpy array\n",
    "c = tar % 2 # divide by two again to see if the binary number ends in zero\n",
    "lowz_tar = np.array(c)\n",
    "\n",
    "# Number of observations for LOWZ targets\n",
    "obs_LOWZ = obs[np.where(((gal_type == 'SIMP') | (gal_type == \"DEV\") | (gal_type == \"EXP\")) & (ra >= 241) & (ra <= 246) & (dec >= 6.5) & (dec <= 11.5) & (lowz_tar == 1) & (gal_class == 'GALAXY') & (spec == 1 ) & (zwarn_noqso == 0) & (class_noqso == 'GALAXY') & ((survey == 'sdss') | (survey == 'boss')))]\n",
    "\n",
    "obs_LOWZ_array = np.array(obs_LOWZ)\n",
    "uobs_LOWZ = obs_LOWZ_array[:,0]\n",
    "gobs_LOWZ = obs_LOWZ_array[:,1]\n",
    "robs_LOWZ = obs_LOWZ_array[:,2]\n",
    "iobs_LOWZ = obs_LOWZ_array[:,3]\n",
    "zobs_LOWZ = obs_LOWZ_array[:,4]\n",
    "yobs_LOWZ = obs_LOWZ_array[:,5]\n",
    "\n",
    "# Flux for LOWZ targets\n",
    "flux_LOWZ = flux[np.where(((gal_type == 'SIMP') | (gal_type == \"DEV\") | (gal_type == \"EXP\")) & (ra >= 241) & (ra <= 246) & (dec >= 6.5) & (dec <= 11.5) & (lowz_tar == 1) & (gal_class == 'GALAXY') & (spec == 1 ) & (zwarn_noqso == 0) & (class_noqso == 'GALAXY') & ((survey == 'sdss') | (survey == 'boss')))]\n",
    "\n",
    "flux_LOWZ_array = np.array(flux_LOWZ)\n",
    "uflux_LOWZ = flux_LOWZ_array[:,0]\n",
    "gflux_LOWZ = flux_LOWZ_array[:,1]\n",
    "rflux_LOWZ = flux_LOWZ_array[:,2]\n",
    "iflux_LOWZ = flux_LOWZ_array[:,3]\n",
    "zflux_LOWZ = flux_LOWZ_array[:,4]\n",
    "yflux_LOWZ = flux_LOWZ_array[:,5]"
   ]
  },
  {
   "cell_type": "code",
   "execution_count": 5,
   "metadata": {
    "collapsed": true
   },
   "outputs": [],
   "source": [
    "# This next part of the code creates a CMD for all galaxies in the EDR"
   ]
  },
  {
   "cell_type": "code",
   "execution_count": 6,
   "metadata": {
    "collapsed": true
   },
   "outputs": [],
   "source": [
    "# Finds the flux in the g and r band that have at least 3 obervations in each with the flux in each > 0, calculates\n",
    "# the magnitude in g and r, and calculates the (g-r) color\n",
    "\n",
    "# Finds flux that correspond with at least 3 observations and a flux > 0\n",
    "gflux_match = gflux[np.where((gobs >= 3) & (robs >= 3) & (gflux > 0.) & (rflux > 0.))]\n",
    "rflux_match = rflux[np.where((gobs >= 3) & (robs >= 3) & (rflux > 0.) & (gflux > 0.))]\n",
    "\n",
    "gmag = 22.5 - 2.5 * np.log10(gflux_match)\n",
    "rmag = 22.5 - 2.5 * np.log10(rflux_match)\n",
    "\n",
    "color = gmag - rmag"
   ]
  },
  {
   "cell_type": "code",
   "execution_count": 7,
   "metadata": {},
   "outputs": [
    {
     "data": {
      "image/png": "[encoded data removed]",
      "text/plain": [
       "<matplotlib.figure.Figure at 0x115793b00>"
      ]
     },
     "metadata": {},
     "output_type": "display_data"
    }
   ],
   "source": [
    "# Plot\n",
    "plt.scatter(rmag, color, s = .5, color = 'indigo') #, label = 'EDR All Cuts')\n",
    "\n",
    "plt.gca().invert_xaxis()\n",
    "\n",
    "plt.grid(True)\n",
    "plt.title('Gmag-Rmag vs. Rmag')\n",
    "plt.xlabel(r'$r$ $magnitude$')\n",
    "plt.ylabel(r'$(g-r)$ $magnitude$')\n",
    "\n",
    "# plt.legend(loc='upper right')\n",
    "\n",
    "plt.show()"
   ]
  },
  {
   "cell_type": "code",
   "execution_count": 8,
   "metadata": {},
   "outputs": [
    {
     "name": "stdout",
     "output_type": "stream",
     "text": [
      "3688\n"
     ]
    }
   ],
   "source": [
    "print(len(color))"
   ]
  },
  {
   "cell_type": "code",
   "execution_count": 9,
   "metadata": {
    "collapsed": true
   },
   "outputs": [],
   "source": [
    "# This part of the code calculates surface density as a function of (g-r) color and magnitude. Returns a 10x10 array."
   ]
  },
  {
   "cell_type": "code",
   "execution_count": 10,
   "metadata": {},
   "outputs": [
    {
     "data": {
      "image/png": "[encoded data removed]",
      "text/plain": [
       "<matplotlib.figure.Figure at 0x2769d46a0>"
      ]
     },
     "metadata": {},
     "output_type": "display_data"
    }
   ],
   "source": [
    "# Calculate surface density\n",
    "Nfield = np.histogram2d(rmag, color, bins=[10,10], normed=False) #flip x and y axis in bins because that's just how this thing rolls\n",
    "\n",
    "# print(H)\n",
    "\n",
    "fig, ax = plt.subplots()\n",
    "ax.set_xticks([ 13.67403889,  14.74635315,  15.81866837,  16.89098167, 17.96329689,  19.03561211,  20.10792542,  21.18024063, 22.25255585,  23.32486916,  24.39718437], minor=False)\n",
    "ax.set_yticks([-0.65635681,  0.30690479,  1.2701664 ,  2.233428  ,  3.19668961, 4.15995121,  5.12321281,  6.08647442, 7.04973602,  8.01299763, 8.97625923], minor=True)\n",
    "ax.xaxis.grid(True, which='major')\n",
    "ax.yaxis.grid(True, which='minor')\n",
    "\n",
    "plt.scatter(rmag, color, s = .5, color = 'magenta') #, label = 'EDR All Cuts')\n",
    "\n",
    "# plt.gca().invert_xaxis()\n",
    "\n",
    "# plt.grid(True)\n",
    "plt.title('Gmag-Rmag vs. Rmag')\n",
    "plt.xlabel(r'$r$ $magnitude$')\n",
    "plt.ylabel(r'$(g-r)$ $magnitude$')\n",
    "\n",
    "# plt.legend(loc='upper right')\n",
    "\n",
    "plt.show()\n",
    "\n",
    "# I flipped the plot because it's easier for me to connect it with the surface_density matrix that way."
   ]
  },
  {
   "cell_type": "code",
   "execution_count": 11,
   "metadata": {
    "collapsed": true
   },
   "outputs": [],
   "source": [
    "# print(Nfield[0]) # Nfield[0] is the histogram part. Nfield[1] and Nfield[2] are the xedges and yedges, respectively.\n",
    "# Also, these values go from low to high x-values, which gets confusing when looking at the CMD."
   ]
  },
  {
   "cell_type": "code",
   "execution_count": 12,
   "metadata": {
    "collapsed": true
   },
   "outputs": [],
   "source": [
    "# Test to illustrate how historgram2d works\n",
    "\n",
    "# x = [2,6,7,9,10,4,5,12,15,10]\n",
    "# y = [1,4,3,8,7,3,11,12,18,12]\n",
    "\n",
    "# fig, ax = plt.subplots()\n",
    "# ax.set_xticks( [2. ,   8.5,  15.], minor=False)\n",
    "# ax.set_yticks([ 1. ,   9.5,  18.], minor=True)\n",
    "# ax.xaxis.grid(True, which='major')\n",
    "# ax.yaxis.grid(True, which='minor')\n",
    "\n",
    "# plt.scatter(x,y)\n",
    "\n",
    "# plt.show()\n",
    "\n",
    "# H = np.histogram2d(x, y, bins=[2,2], normed=False)\n",
    "# print(H)"
   ]
  },
  {
   "cell_type": "code",
   "execution_count": 13,
   "metadata": {},
   "outputs": [
    {
     "name": "stdout",
     "output_type": "stream",
     "text": [
      "(10, 10)\n",
      "[[  0.00000000e+00   3.70370370e-08   0.00000000e+00   0.00000000e+00\n",
      "    0.00000000e+00   0.00000000e+00   0.00000000e+00   0.00000000e+00\n",
      "    0.00000000e+00   0.00000000e+00]\n",
      " [  0.00000000e+00   1.41975309e-07   0.00000000e+00   0.00000000e+00\n",
      "    0.00000000e+00   0.00000000e+00   0.00000000e+00   0.00000000e+00\n",
      "    0.00000000e+00   0.00000000e+00]\n",
      " [  0.00000000e+00   7.31481481e-07   4.32098765e-08   0.00000000e+00\n",
      "    0.00000000e+00   0.00000000e+00   0.00000000e+00   0.00000000e+00\n",
      "    0.00000000e+00   0.00000000e+00]\n",
      " [  1.54320988e-08   2.53395062e-06   8.05555556e-07   0.00000000e+00\n",
      "    0.00000000e+00   0.00000000e+00   0.00000000e+00   0.00000000e+00\n",
      "    0.00000000e+00   0.00000000e+00]\n",
      " [  3.08641975e-09   1.41975309e-07   1.31172840e-06   0.00000000e+00\n",
      "    0.00000000e+00   0.00000000e+00   0.00000000e+00   0.00000000e+00\n",
      "    0.00000000e+00   0.00000000e+00]\n",
      " [  1.23456790e-08   7.09876543e-08   2.08333333e-06   0.00000000e+00\n",
      "    0.00000000e+00   0.00000000e+00   0.00000000e+00   0.00000000e+00\n",
      "    0.00000000e+00   3.08641975e-09]\n",
      " [  9.25925926e-09   2.00617284e-07   3.03086420e-06   4.32098765e-08\n",
      "    0.00000000e+00   0.00000000e+00   0.00000000e+00   0.00000000e+00\n",
      "    0.00000000e+00   0.00000000e+00]\n",
      " [  6.17283951e-09   1.54320988e-08   1.20370370e-07   6.17283951e-09\n",
      "    0.00000000e+00   0.00000000e+00   0.00000000e+00   0.00000000e+00\n",
      "    0.00000000e+00   0.00000000e+00]\n",
      " [  3.08641975e-09   3.08641975e-09   0.00000000e+00   3.08641975e-09\n",
      "    0.00000000e+00   0.00000000e+00   0.00000000e+00   0.00000000e+00\n",
      "    0.00000000e+00   0.00000000e+00]\n",
      " [  3.08641975e-09   3.08641975e-09   0.00000000e+00   0.00000000e+00\n",
      "    0.00000000e+00   0.00000000e+00   0.00000000e+00   0.00000000e+00\n",
      "    0.00000000e+00   0.00000000e+00]]\n",
      "10\n"
     ]
    }
   ],
   "source": [
    "surface_density = Nfield[0] / (3.24 * 10**8) # area of EDR in units of square arcsec\n",
    "surface_density = np.array(surface_density)\n",
    "print(surface_density.shape)\n",
    "# print(Nfield[0])\n",
    "print(surface_density)\n",
    "print(len(surface_density))"
   ]
  },
  {
   "cell_type": "code",
   "execution_count": 14,
   "metadata": {
    "collapsed": true
   },
   "outputs": [],
   "source": [
    "# This part of the code finds the area in which I will look for satellite galaxies: A = pi*(search radius). It \n",
    "# includes a modified Python Code for this cosmological calculator (http://www.astro.ucla.edu/~wright/CC.python),\n",
    "# Which is in turn modified from http: http://www.astro.ucla.edu/~wright/CosmoCalc.html. \n",
    "\n",
    "# A search radius, and therefore an area, needs to be found for each LRG. So the ultimate output of this part should \n",
    "# be a 10x10x(number of LRGs) matrix. Because each LRG is a different redshift, I need the cosmological calculator to\n",
    "# produce a scale value so I can convert from the search radius (in kpc) to an angle in arcsecond. After using the\n",
    "# angle to calculate the search area A, I use A to calculate the expected number of galaxies around each LRG. The \n",
    "# structure of the data at the end should be a 10x10 square (like the surface density) with a depth of the number of\n",
    "# LRGs in the sample."
   ]
  },
  {
   "cell_type": "code",
   "execution_count": 40,
   "metadata": {},
   "outputs": [
    {
     "name": "stdout",
     "output_type": "stream",
     "text": [
      "0.209855\n",
      "0.335372\n",
      "0.360255\n",
      "3.45274094333\n",
      "4.8474024974\n",
      "5.07993412145\n"
     ]
    }
   ],
   "source": [
    "# Section of code to find scale factor for distance so I can calculate the area around LRG\n",
    "\n",
    "# Redshift values\n",
    "redshift_cut = redshift[np.where((lowz_tar == 1) & (ra >= 241) & (ra <= 246) & (dec >= 6.5) & (dec <= 11.5) & (objid > -1) & (gal_class == 'GALAXY') & (spec == 1 ) & (zwarn_noqso == 0) & (class_noqso == 'GALAXY') & ((survey == 'sdss') | (survey == 'boss')) & ((gal_type == 'DEV') | (gal_type == 'EXP') | (gal_type == 'COMP') | (gal_type == 'SIMP')))]\n",
    "z = redshift_cut[np.where((gobs_LOWZ >= 3) & (robs_LOWZ >= 3) & (gflux_LOWZ > 0.) & (rflux_LOWZ > 0.))]\n",
    "\n",
    "# Calculate scale to get areas\n",
    "H0 = 69.6\n",
    "WM = 0.286\n",
    "WV = 0.714\n",
    "# z = 0.209855\n",
    "\n",
    "# initialize constants\n",
    "\n",
    "WR = 0.        # Omega(radiation)\n",
    "WK = 0.        # Omega curvaturve = 1-Omega(total)\n",
    "c = 299792.458 # velocity of light in km/sec\n",
    "Tyr = 977.8    # coefficent for converting 1/H into Gyr\n",
    "DTT = 0.5      # time from z to now in units of 1/H0\n",
    "DTT_Gyr = []  # value of DTT in Gyr\n",
    "age = 0.5      # age of Universe in units of 1/H0\n",
    "age_Gyr = []  # value of age in Gyr\n",
    "zage = 0.1     # age of Universe at redshift z in units of 1/H0\n",
    "zage_Gyr = [] # value of zage in Gyr\n",
    "DCMR = 0.0     # comoving radial distance in units of c/H0\n",
    "DCMR_Mpc = [] \n",
    "DCMR_Gyr = []\n",
    "DA = 0.0       # angular size distance\n",
    "DA_Mpc = []\n",
    "DA_Gyr = []\n",
    "kpc_DA = []\n",
    "DL = 0.0       # luminosity distance\n",
    "DL_Mpc = []\n",
    "DL_Gyr = []   # DL in units of billions of light years\n",
    "V_Gpc = []\n",
    "a = 1.0        # 1/(1+z), the scale factor of the Universe\n",
    "az = 0.5       # 1/(1+z(object))\n",
    "\n",
    "h = H0/100.\n",
    "WR = 4.165E-5/(h*h)   # includes 3 massless neutrino species, T0 = 2.72528\n",
    "WK = 1-WM-WR-WV\n",
    "\n",
    "for j in range(len(z)):\n",
    "\taz = 1.0/(1+1.0*z[j])\n",
    "\tage = 0.\n",
    "\tn=1000         # number of points in integrals\n",
    "\tfor i in range(n):\n",
    "\t\ta = az*(i+0.5)/n\n",
    "\t\tadot = sqrt(WK+(WM/a)+(WR/(a*a))+(WV*a*a))\n",
    "\t\tage = age + 1./adot\n",
    "\n",
    "\tzage = az*age/n\n",
    "\tzage_Gyr.append((Tyr/H0)*zage)\n",
    "\tDTT = 0.0\n",
    "\tDCMR = 0.0\n",
    "\n",
    "\t# do integral over a=1/(1+z) from az to 1 in n steps, midpoint rule\n",
    "\tfor i in range(n):\n",
    "\t\ta = az+(1-az)*(i+0.5)/n\n",
    "\t\tadot = sqrt(WK+(WM/a)+(WR/(a*a))+(WV*a*a))\n",
    "\t\tDTT = DTT + 1./adot\n",
    "\t\tDCMR = DCMR + 1./(a*adot)\n",
    "\n",
    "\tDTT = (1.-az)*DTT/n\n",
    "\tDCMR = (1.-az)*DCMR/n\n",
    "\tage = DTT+zage\n",
    "\tage_Gyr.append(age*(Tyr/H0))\n",
    "\tDTT_Gyr.append((Tyr/H0)*DTT)\n",
    "\tDCMR_Gyr.append((Tyr/H0)*DCMR)\n",
    "\tDCMR_Mpc.append((c/H0)*DCMR)\n",
    "\n",
    "\t# tangential comoving distance\n",
    "\n",
    "\tratio = 1.00\n",
    "\tx = sqrt(abs(WK))*DCMR\n",
    "\tif x > 0.1:\n",
    "\t\tif WK > 0:\n",
    "\t\t\tratio =  0.5*(exp(x)-exp(-x))/x \n",
    "\t\telse:\n",
    "\t\t\tratio = sin(x)/x\n",
    "\telse:\n",
    "\t\ty = x*x\n",
    "\t\tif WK < 0: y = -y\n",
    "\t\tratio = 1. + y/6. + y*y/120.\n",
    "\tDCMT = ratio*DCMR\n",
    "\tDA = az*DCMT\n",
    "\tDA_Mpc.append((c/H0)*DA)\n",
    "\tkpc_DA.append(DA_Mpc[j]/206.264806)\n",
    "\tDA_Gyr.append((Tyr/H0)*DA)\n",
    "\tDL = DA/(az*az)\n",
    "\tDL_Mpc.append((c/H0)*DL)\n",
    "\tDL_Gyr.append((Tyr/H0)*DL)\n",
    "\n",
    "\t# comoving volume computation\n",
    "\n",
    "\tratio = 1.00\n",
    "\tx = sqrt(abs(WK))*DCMR\n",
    "\tif x > 0.1:\n",
    "\t\tif WK > 0:\n",
    "\t\t\tratio = (0.125*(exp(2.*x)-exp(-2.*x))-x/2.)/(x*x*x/3.)\n",
    "\t\telse:\n",
    "\t\t\tratio = (x/2. - sin(2.*x)/4.)/(x*x*x/3.)\n",
    "\telse:\n",
    "\t\ty = x*x\n",
    "\t\tif WK < 0: y = -y\n",
    "\t\tratio = 1. + y/5. + (2./105.)*y*y\n",
    "\tVCM = ratio*DCMR*DCMR*DCMR/3.\n",
    "\tV_Gpc.append(4.*pi*((0.001*c/H0)**3)*VCM)\n",
    "    \n",
    "print(z[0])\n",
    "print(z[1])\n",
    "print(z[2])\n",
    "print(kpc_DA[0])\n",
    "print(kpc_DA[1])\n",
    "print(kpc_DA[2])"
   ]
  },
  {
   "cell_type": "code",
   "execution_count": 16,
   "metadata": {},
   "outputs": [
    {
     "name": "stdout",
     "output_type": "stream",
     "text": [
      "(446,)\n"
     ]
    }
   ],
   "source": [
    "# Section of code that converts satellite search radius rp to arcsec and calculates area A\n",
    "\n",
    "theta = []\n",
    "A = []\n",
    "rp = 1000.\n",
    "\n",
    "for i in range(len(kpc_DA)):\n",
    "\ttheta.append(rp * (1/kpc_DA[i])) # converts rp in kpc to arcsec\n",
    "\tA.append(np.pi * theta[i]**2) # calculates the area around each LRG\n",
    "\t\n",
    "A = np.array(A)\n",
    "print(A.shape)"
   ]
  },
  {
   "cell_type": "code",
   "execution_count": 17,
   "metadata": {},
   "outputs": [
    {
     "name": "stdout",
     "output_type": "stream",
     "text": [
      "(446, 10, 10)\n",
      "[ 0.00976019  0.03741405  0.19276368 ...,  0.00066003  0.00066003\n",
      "  0.00066003]\n"
     ]
    }
   ],
   "source": [
    "# Section of code that calculates the number of expected galaxies (Nexp) as a function of color and magnitude\n",
    "\n",
    "\n",
    "B = []\n",
    "\n",
    "for k in range(len(A)):\n",
    "    for i in range(surface_density.shape[0]):\n",
    "        for j in range(surface_density.shape[1]):\n",
    "            B.append(A[k] * surface_density[i,j])\n",
    "\n",
    "B = np.array(B)\n",
    "        \n",
    "# Reshapes B array\n",
    "\n",
    "Nexp = np.reshape(B, (446,10,10))\n",
    "\n",
    "# print(sd.shape)\n",
    "# print(sd)\n",
    "# print(B.shape)\n",
    "# print(B)\n",
    "print(Nexp.shape)\n",
    "print(Nexp[np.where(Nexp > 0)])\n",
    "\n",
    "\n",
    "\n",
    "# B = []\n",
    "\n",
    "# for i in range(len(surface_density)):\n",
    "# \tfor j in range(len(surface_density)):\n",
    "# \t\tB.append(A * surface_density[i,j])\n",
    "\n",
    "# B = np.array(B)\n",
    "# # print(len(B))\n",
    "        \n",
    "# # Reshapes B array\n",
    "\n",
    "# Nexp = np.reshape(B, (10,10,446))\n",
    "\n",
    "# print(B.shape)\n",
    "# print(B[1,0])\n",
    "# print(Nexp.shape)"
   ]
  },
  {
   "cell_type": "code",
   "execution_count": 18,
   "metadata": {
    "collapsed": true
   },
   "outputs": [],
   "source": [
    "# Testing to see if Nexp is what I think it is\n",
    "\n",
    "# print(Nexp[1,1,1]) # index order: surface_density (first two slots), A\n",
    "# print(A[1])\n",
    "# print(surface_density[1,1])\n",
    "# print(A[1] * surface_density[1,1])"
   ]
  },
  {
   "cell_type": "code",
   "execution_count": 19,
   "metadata": {},
   "outputs": [
    {
     "name": "stdout",
     "output_type": "stream",
     "text": [
      "10\n",
      "10\n"
     ]
    }
   ],
   "source": [
    "print(len(Nexp[0,0]))\n",
    "print(Nexp.shape[1])"
   ]
  },
  {
   "cell_type": "code",
   "execution_count": 20,
   "metadata": {
    "collapsed": true
   },
   "outputs": [],
   "source": [
    "# This is what I think the previous chunks of code are doing. For every surface density, the code goes through and\n",
    "# muliplies by every search area. In other words, each surface density is multiplied 446 times (the number of LRGs).\n",
    "# The data is stored, then, in a 3D block. The coordinates of face of the block coorespond to the coordinates of the \n",
    "# surface_density matrix. The coordinates of the depth of the block coorespond to the coordinates of the A array\n",
    "# (the array that holds all the search areas). So I'm pretty sure I have a matrix of values for the expected number\n",
    "# of satellite galaxies."
   ]
  },
  {
   "cell_type": "code",
   "execution_count": 21,
   "metadata": {
    "collapsed": true
   },
   "outputs": [],
   "source": [
    "# This part of the code is where I try to count the number of galaxies are in a radius around an LRG. The plan is \n",
    "# inefficient, but it's what I have at the moment: I want to measure the distances between each individual LRG and\n",
    "# every other galaxy in the EDR. Then I will find what number of those are within 1000 kpc of the LRG. \n",
    "# This will be Ngal."
   ]
  },
  {
   "cell_type": "code",
   "execution_count": 22,
   "metadata": {},
   "outputs": [
    {
     "name": "stdout",
     "output_type": "stream",
     "text": [
      "446\n",
      "446\n",
      "5131\n",
      "5131\n"
     ]
    }
   ],
   "source": [
    "# Makes arrays for RA and Dec for LOWZ LRGs only and for all EDR galaxies \n",
    "\n",
    "# Creates an array of RA and Dec for the 446 LOWZ LRGs\n",
    "\n",
    "ra_cut = ra[np.where((lowz_tar == 1) & (ra >= 241) & (ra <= 246) & (dec >= 6.5) & (dec <= 11.5) & (objid > -1) & (gal_class == 'GALAXY') & (spec == 1 ) & (zwarn_noqso == 0) & (class_noqso == 'GALAXY') & ((survey == 'sdss') | (survey == 'boss')) & ((gal_type == 'DEV') | (gal_type == 'EXP') | (gal_type == 'COMP') | (gal_type == 'SIMP')))]\n",
    "ra_lrg = ra_cut[np.where((gobs_LOWZ >= 3) & (robs_LOWZ >= 3) & (gflux_LOWZ > 0.) & (rflux_LOWZ > 0.))]\n",
    "\n",
    "dec_cut = dec[np.where((lowz_tar == 1) & (ra >= 241) & (ra <= 246) & (dec >= 6.5) & (dec <= 11.5) & (objid > -1) & (gal_class == 'GALAXY') & (spec == 1 ) & (zwarn_noqso == 0) & (class_noqso == 'GALAXY') & ((survey == 'sdss') | (survey == 'boss')) & ((gal_type == 'DEV') | (gal_type == 'EXP') | (gal_type == 'COMP') | (gal_type == 'SIMP')))]\n",
    "dec_lrg = dec_cut[np.where((gobs_LOWZ >= 3) & (robs_LOWZ >= 3) & (gflux_LOWZ > 0.) & (rflux_LOWZ > 0.))]\n",
    "\n",
    "print(len(ra_lrg))\n",
    "print(len(dec_lrg))\n",
    "\n",
    "# Create an array for RA and Dec for all EDR sources\n",
    "\n",
    "ra_edr = ra[np.where((ra >= 241) & (ra <= 246) & (dec >= 6.5) & (dec <= 11.5) & ((gal_type == 'DEV') | (gal_type == 'EXP') | (gal_type == 'COMP') | (gal_type == 'SIMP')))]\n",
    "dec_edr = dec[np.where((ra >= 241) & (ra <= 246) & (dec >= 6.5) & (dec <= 11.5) & ((gal_type == 'DEV') | (gal_type == 'EXP') | (gal_type == 'COMP') | (gal_type == 'SIMP')))]\n",
    "\n",
    "print(len(ra_edr))\n",
    "print(len(dec_edr))"
   ]
  },
  {
   "cell_type": "code",
   "execution_count": 23,
   "metadata": {},
   "outputs": [
    {
     "name": "stdout",
     "output_type": "stream",
     "text": [
      "(5131,)\n",
      "4\n",
      "[ 650.68132108    0.          716.00436827  649.60145039]\n"
     ]
    }
   ],
   "source": [
    "# This section creates new_ra and new_dec arrays. These are ra_lrg - ra_edr and dec_lrg - dec_edr, respectively. The\n",
    "# new ra and dec are then converted into arcsececond, and then to kpc\n",
    "\n",
    "new_ra = []\n",
    "newra = []\n",
    "\n",
    "new_dec = []\n",
    "newdec = []\n",
    "\n",
    "ra_arcsec = []\n",
    "dec_arcsec = []\n",
    "\n",
    "ra_kpc = []\n",
    "dec_kpc = []\n",
    "\n",
    "dist = []\n",
    "\n",
    "# Calculate the difference between LRG RA/Dec and satellite RA/Dec\n",
    "\n",
    "for i in range(len(ra_lrg)):\n",
    "#     if (ra_lrg != ra_edr): # avoids subtracting ra/dec of lrg from itself\n",
    "    newra = ra_lrg[i] - ra_edr\n",
    "#     else:\n",
    "#         newra = 0\n",
    "    new_ra.append(newra)\n",
    "    \n",
    "for i in range(len(dec_lrg)):\n",
    "#     if (dec_lrg != dec_edr):\n",
    "    newdec = dec_lrg[i] - dec_edr\n",
    "#     else:\n",
    "#         newdec = 0\n",
    "    new_dec.append(newdec)\n",
    "    \n",
    "new_ra = np.array(new_ra)\n",
    "new_dec = np.array(new_dec)\n",
    "\n",
    "# print(new_ra.shape[0])\n",
    "# print(new_dec.shape)\n",
    "# print(newra[0,0])\n",
    "# print(ra_lrg[0] - ra_edr[0])\n",
    "\n",
    "\n",
    "# Convert to arcsecond\n",
    "\n",
    "for i in range(new_ra.shape[0]):\n",
    "    ra_arcsec.append(new_ra[i] * 3600)\n",
    "\n",
    "ra_arcsec = np.array(ra_arcsec)\n",
    "\n",
    "\n",
    "for i in range(new_dec.shape[0]):\n",
    "    dec_arcsec.append(new_dec[i] * 3600)\n",
    "\n",
    "dec_arcsec = np.array(dec_arcsec)\n",
    "\n",
    "\n",
    "# Convert to kpc using scale from cosomological calculator\n",
    "\n",
    "for i in range(ra_arcsec.shape[0]):\n",
    "    ra_kpc.append(ra_arcsec[i] * kpc_DA[i])\n",
    "\n",
    "ra_kpc = np.array(ra_kpc)\n",
    "\n",
    "\n",
    "for i in range(dec_arcsec.shape[0]):\n",
    "    dec_kpc.append(dec_arcsec[i] * kpc_DA[i])\n",
    "\n",
    "dec_kpc = np.array(dec_kpc)\n",
    "\n",
    "\n",
    "# Calculate distance from LRG to satellites\n",
    "\n",
    "for i in range(ra_kpc.shape[0]):\n",
    "    dist.append(np.sqrt((ra_kpc[i])**2 + (dec_kpc[i])**2))\n",
    "\n",
    "dist = np.array(dist)\n",
    "\n",
    "# print(new_ra.shape)\n",
    "# print(ra_lrg[1])\n",
    "# print(ra_edr[2])\n",
    "# print(new_ra[1,2])\n",
    "# print(ra_lrg[1]-ra_edr[2])\n",
    "\n",
    "# print(ra_arcsec.shape)\n",
    "# print(ra_arcsec[10,30])\n",
    "# print((new_ra[10,30] * 3600))\n",
    "\n",
    "# print(ra_kpc.shape)\n",
    "# print(ra_kpc[10,10])\n",
    "# print(ra_arcsec[10,10] * kpc_DA[10])\n",
    "\n",
    "# print(dist.shape)\n",
    "# print(np.sqrt((ra_kpc[10,11])**2 + (dec_kpc[10,11])**2))\n",
    "# print(dist[10,11])\n",
    "\n",
    "d = dist[1]\n",
    "print(d.shape)\n",
    "print(len(d[np.where(d < 1000)]))\n",
    "print(d[np.where(d < 1000)])"
   ]
  },
  {
   "cell_type": "code",
   "execution_count": 24,
   "metadata": {},
   "outputs": [
    {
     "name": "stdout",
     "output_type": "stream",
     "text": [
      "241.617707238\n",
      "6.86264630165\n"
     ]
    }
   ],
   "source": [
    "print(ra_lrg[1])\n",
    "print(dec_lrg[1])"
   ]
  },
  {
   "cell_type": "code",
   "execution_count": 25,
   "metadata": {},
   "outputs": [
    {
     "name": "stdout",
     "output_type": "stream",
     "text": [
      "(446,)\n",
      "42\n",
      "3\n"
     ]
    }
   ],
   "source": [
    "# In which I create an array of how many galaxies are within the search radius of each LRG. The array should be 1D and\n",
    "# 446 elements long.\n",
    "\n",
    "Ngal = []\n",
    "\n",
    "for i in range(dist.shape[0]):\n",
    "    d = dist[i]\n",
    "    Ngal.append(len(d[np.where(d < 1000.)]))\n",
    "\n",
    "Ngal = np.array(Ngal)\n",
    "Ngal = Ngal - 1 # Need to subtract one because I did not eliminate the LRG RA/Dec from the ra_edr and dec_edr\n",
    "\n",
    "print(Ngal.shape)\n",
    "print(len(Ngal[np.where(Ngal == 0)]))\n",
    "print(Ngal[1])"
   ]
  },
  {
   "cell_type": "code",
   "execution_count": 26,
   "metadata": {
    "collapsed": true
   },
   "outputs": [],
   "source": [
    "# This is the part of the code where I calculate how many extra neighbors each LRG has. This is Nsat."
   ]
  },
  {
   "cell_type": "code",
   "execution_count": 27,
   "metadata": {},
   "outputs": [
    {
     "name": "stdout",
     "output_type": "stream",
     "text": [
      "(446, 10, 10)\n",
      "2.99958734539\n",
      "3\n",
      "0.000412654606896\n",
      "2.99958734539\n"
     ]
    }
   ],
   "source": [
    "Nsat = []\n",
    "\n",
    "for i in range(Nexp.shape[0]):\n",
    "    for j in range(Nexp.shape[1]):\n",
    "        for m in range(Nexp.shape[2]):\n",
    "            s = Ngal[i] - Nexp[i,j,m]\n",
    "            Nsat.append(s)\n",
    "            \n",
    "Nsat = np.array(Nsat)\n",
    "Nsat = np.reshape(Nsat, (446,10,10))\n",
    "\n",
    "print(Nsat.shape)\n",
    "\n",
    "print(Ngal[1] - Nexp[1,9,0])\n",
    "print(Ngal[1])\n",
    "print(Nexp[1,9,0])\n",
    "print(Nsat[1,9,0])"
   ]
  },
  {
   "cell_type": "code",
   "execution_count": 28,
   "metadata": {
    "collapsed": true
   },
   "outputs": [],
   "source": [
    "# I think I am misunderstanding what goes on when I reshape a 1D array into a 3D array, so below are just a bunch of\n",
    "# tests on smaller and simpler arrays so I can figure out what is going on. Code for this is in tests.ipynb and I think\n",
    "# it is fixed."
   ]
  },
  {
   "cell_type": "code",
   "execution_count": 29,
   "metadata": {
    "collapsed": true
   },
   "outputs": [],
   "source": [
    "# This part of the code calculates the average number of Nsat for every LRG as a function of (g-r) color and magnitude.\n",
    "# This collapses a 3D array into a 1D array. As it turns out, none of the LRGs have an average Nsat == 0."
   ]
  },
  {
   "cell_type": "code",
   "execution_count": 30,
   "metadata": {},
   "outputs": [
    {
     "name": "stdout",
     "output_type": "stream",
     "text": [
      "446\n",
      "(446,)\n",
      "446\n",
      "(446,)\n"
     ]
    }
   ],
   "source": [
    "# Tsat = []\n",
    "# Tgal = np.array([1,2])\n",
    "# Texp = np.array([2,4,8,10,4,8,16,20])\n",
    "# Texp = np.reshape(Texp, (2,2,2))\n",
    "\n",
    "# # for k in range(len(Tgal)):\n",
    "# for i in range(Texp.shape[0]):\n",
    "#     for j in range(Texp.shape[1]):\n",
    "#         for m in range(Texp.shape[2]):\n",
    "#             s = Tgal[i] - Texp[i,j,m]\n",
    "#             Tsat.append(s)\n",
    "            \n",
    "# Tsat = np.array(Tsat)\n",
    "# Tsat = np.reshape(Tsat, (2,2,2))\n",
    "\n",
    "# print(Tsat)\n",
    "\n",
    "avg = []\n",
    "sat_avg = []\n",
    "\n",
    "# print(len(Nsat))\n",
    "\n",
    "for i in range(Nsat.shape[0]):\n",
    "    new_array = np.array(Nsat[i])\n",
    "# print(new_array)\n",
    "    avg = np.mean(new_array)\n",
    "# print(avg)\n",
    "    sat_avg.append(avg)\n",
    "            \n",
    "sat_avg = np.array(sat_avg)\n",
    "        \n",
    "# avg0 = (-1 + -3 + -7 + -9) / 4\n",
    "# avg1 = (-2 + -6 + -14 + -18) / 4\n",
    "# print(avg0)\n",
    "# print(avg1)\n",
    "print(len(sat_avg))\n",
    "print(sat_avg.shape)\n",
    "\n",
    "\n",
    "Navg = []\n",
    "\n",
    "for i in range(Nsat.shape[0]):\n",
    "    new_array = np.array(Nsat[i])\n",
    "    Nsum = np.sum(new_array)\n",
    "    Navg.append(Nsum/len(Ngal))\n",
    "    \n",
    "Navg = np.array(Navg)\n",
    "\n",
    "print(len(Navg))\n",
    "print(Navg.shape)"
   ]
  },
  {
   "cell_type": "code",
   "execution_count": 31,
   "metadata": {
    "collapsed": true
   },
   "outputs": [],
   "source": [
    "# idk...I guess I'll plot some histograms to see what's up?"
   ]
  },
  {
   "cell_type": "code",
   "execution_count": 32,
   "metadata": {},
   "outputs": [
    {
     "data": {
      "image/png": "[encoded data removed]",
      "text/plain": [
       "<matplotlib.figure.Figure at 0x276cf9828>"
      ]
     },
     "metadata": {},
     "output_type": "display_data"
    }
   ],
   "source": [
    "# Plot histogram of number of satellites per LRG averaged over number of CM bins\n",
    "\n",
    "plt.hist(sat_avg, bins = 50, color = 'purple')\n",
    "\n",
    "plt.grid(True)\n",
    "# plt.title('Magnitude Distribution (g)')\n",
    "plt.xlabel(r'$averges$')\n",
    "plt.ylabel(r'$counts$')\n",
    "\n",
    "plt.show()"
   ]
  },
  {
   "cell_type": "code",
   "execution_count": 33,
   "metadata": {},
   "outputs": [
    {
     "data": {
      "image/png": "[encoded data removed]",
      "text/plain": [
       "<matplotlib.figure.Figure at 0x27d79d240>"
      ]
     },
     "metadata": {},
     "output_type": "display_data"
    }
   ],
   "source": [
    "# Plot histogram of number of satellites per LRG averaged over the number of LRGs\n",
    "\n",
    "plt.hist(Navg, bins = 50, color = 'green')\n",
    "\n",
    "plt.grid(True)\n",
    "# plt.title('Magnitude Distribution (g)')\n",
    "plt.xlabel(r'$averges$')\n",
    "plt.ylabel(r'$counts$')\n",
    "\n",
    "plt.show()"
   ]
  },
  {
   "cell_type": "code",
   "execution_count": 34,
   "metadata": {
    "collapsed": true
   },
   "outputs": [],
   "source": [
    "# The shape of these look exactly the same, which is really suspicious to me.\n",
    "# I need to talk to Greg about this."
   ]
  },
  {
   "cell_type": "code",
   "execution_count": null,
   "metadata": {
    "collapsed": true
   },
   "outputs": [],
   "source": []
  }
 ],
 "metadata": {
  "kernelspec": {
   "display_name": "Python 3",
   "language": "python",
   "name": "python3"
  },
  "language_info": {
   "codemirror_mode": {
    "name": "ipython",
    "version": 3
   },
   "file_extension": ".py",
   "mimetype": "text/x-python",
   "name": "python",
   "nbconvert_exporter": "python",
   "pygments_lexer": "ipython3",
   "version": "3.6.1"
  }
 },
 "nbformat": 4,
 "nbformat_minor": 2
}
